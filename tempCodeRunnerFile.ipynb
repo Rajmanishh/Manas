import numpy as np
import pandas as pd
import matplotlib.pyplot as plt

data = pd.read_csv(r"D:\OneDrive\Desktop\First Semester\Manas\Data\train.csv")
#feature selection
numeric_data = data.select_dtypes(include=['float64', 'int64'])
corr_matrix = numeric_data.corr()
target_corr = corr_matrix['close'].sort_values(ascending=False) 
#print(target_corr)
#feature scaling
features=["close","open","high","liquidity_ratio","low","beta_indicator"]
corr_1=data[features].corr()
print(corr_1)